{
 "cells": [
  {
   "cell_type": "markdown",
   "metadata": {},
   "source": [
    "# Building Machine Learning Classifiers: Model selection"
   ]
  },
  {
   "cell_type": "markdown",
   "metadata": {},
   "source": [
    "### Read in & clean text"
   ]
  },
  {
   "cell_type": "code",
   "execution_count": 1,
   "metadata": {},
   "outputs": [
    {
     "data": {
      "text/html": [
       "<div>\n",
       "<style scoped>\n",
       "    .dataframe tbody tr th:only-of-type {\n",
       "        vertical-align: middle;\n",
       "    }\n",
       "\n",
       "    .dataframe tbody tr th {\n",
       "        vertical-align: top;\n",
       "    }\n",
       "\n",
       "    .dataframe thead th {\n",
       "        text-align: right;\n",
       "    }\n",
       "</style>\n",
       "<table border=\"1\" class=\"dataframe\">\n",
       "  <thead>\n",
       "    <tr style=\"text-align: right;\">\n",
       "      <th></th>\n",
       "      <th>id</th>\n",
       "      <th>keyword</th>\n",
       "      <th>location</th>\n",
       "      <th>text</th>\n",
       "      <th>target</th>\n",
       "    </tr>\n",
       "  </thead>\n",
       "  <tbody>\n",
       "    <tr>\n",
       "      <td>0</td>\n",
       "      <td>1</td>\n",
       "      <td>NaN</td>\n",
       "      <td>NaN</td>\n",
       "      <td>Our Deeds are the Reason of this #earthquake M...</td>\n",
       "      <td>1</td>\n",
       "    </tr>\n",
       "    <tr>\n",
       "      <td>1</td>\n",
       "      <td>4</td>\n",
       "      <td>NaN</td>\n",
       "      <td>NaN</td>\n",
       "      <td>Forest fire near La Ronge Sask. Canada</td>\n",
       "      <td>1</td>\n",
       "    </tr>\n",
       "    <tr>\n",
       "      <td>2</td>\n",
       "      <td>5</td>\n",
       "      <td>NaN</td>\n",
       "      <td>NaN</td>\n",
       "      <td>All residents asked to 'shelter in place' are ...</td>\n",
       "      <td>1</td>\n",
       "    </tr>\n",
       "    <tr>\n",
       "      <td>3</td>\n",
       "      <td>6</td>\n",
       "      <td>NaN</td>\n",
       "      <td>NaN</td>\n",
       "      <td>13,000 people receive #wildfires evacuation or...</td>\n",
       "      <td>1</td>\n",
       "    </tr>\n",
       "    <tr>\n",
       "      <td>4</td>\n",
       "      <td>7</td>\n",
       "      <td>NaN</td>\n",
       "      <td>NaN</td>\n",
       "      <td>Just got sent this photo from Ruby #Alaska as ...</td>\n",
       "      <td>1</td>\n",
       "    </tr>\n",
       "  </tbody>\n",
       "</table>\n",
       "</div>"
      ],
      "text/plain": [
       "   id keyword location                                               text  \\\n",
       "0   1     NaN      NaN  Our Deeds are the Reason of this #earthquake M...   \n",
       "1   4     NaN      NaN             Forest fire near La Ronge Sask. Canada   \n",
       "2   5     NaN      NaN  All residents asked to 'shelter in place' are ...   \n",
       "3   6     NaN      NaN  13,000 people receive #wildfires evacuation or...   \n",
       "4   7     NaN      NaN  Just got sent this photo from Ruby #Alaska as ...   \n",
       "\n",
       "   target  \n",
       "0       1  \n",
       "1       1  \n",
       "2       1  \n",
       "3       1  \n",
       "4       1  "
      ]
     },
     "execution_count": 1,
     "metadata": {},
     "output_type": "execute_result"
    }
   ],
   "source": [
    "import pandas as pd\n",
    "data = pd.read_csv('train.csv')\n",
    "data.head()"
   ]
  },
  {
   "cell_type": "code",
   "execution_count": 2,
   "metadata": {},
   "outputs": [],
   "source": [
    "import nltk\n",
    "import pandas as pd\n",
    "import re\n",
    "from sklearn.feature_extraction.text import TfidfVectorizer\n",
    "import string\n",
    "\n",
    "stopwords = nltk.corpus.stopwords.words('english')\n",
    "ps = nltk.PorterStemmer()\n",
    "\n",
    "data['text_len'] = data['text'].apply(lambda x: len(x) - x.count(\" \"))\n",
    "\n",
    "def clean_text(text):\n",
    "    text = \"\".join([word.lower() for word in text if word not in string.punctuation])\n",
    "    tokens = re.split('\\W+', text)\n",
    "    text = [ps.stem(word) for word in tokens if word not in stopwords]\n",
    "    return text"
   ]
  },
  {
   "cell_type": "markdown",
   "metadata": {},
   "source": [
    "### Split into train/test\n"
   ]
  },
  {
   "cell_type": "code",
   "execution_count": 3,
   "metadata": {},
   "outputs": [
    {
     "name": "stdout",
     "output_type": "stream",
     "text": [
      "(6090, 2)\n",
      "(6090,)\n"
     ]
    }
   ],
   "source": [
    "from sklearn.model_selection import train_test_split\n",
    "y= data.target.to_numpy()\n",
    "X_train, X_test, y_train, y_test = train_test_split(data[['text', 'text_len']], y, test_size=0.2)\n",
    "print(X_train.shape)\n",
    "print(y_train.shape)"
   ]
  },
  {
   "cell_type": "markdown",
   "metadata": {},
   "source": [
    "### Vectorize"
   ]
  },
  {
   "cell_type": "code",
   "execution_count": 4,
   "metadata": {},
   "outputs": [
    {
     "data": {
      "text/html": [
       "<div>\n",
       "<style scoped>\n",
       "    .dataframe tbody tr th:only-of-type {\n",
       "        vertical-align: middle;\n",
       "    }\n",
       "\n",
       "    .dataframe tbody tr th {\n",
       "        vertical-align: top;\n",
       "    }\n",
       "\n",
       "    .dataframe thead th {\n",
       "        text-align: right;\n",
       "    }\n",
       "</style>\n",
       "<table border=\"1\" class=\"dataframe\">\n",
       "  <thead>\n",
       "    <tr style=\"text-align: right;\">\n",
       "      <th></th>\n",
       "      <th>text_len</th>\n",
       "      <th>0</th>\n",
       "      <th>1</th>\n",
       "      <th>2</th>\n",
       "      <th>3</th>\n",
       "      <th>4</th>\n",
       "      <th>5</th>\n",
       "      <th>6</th>\n",
       "      <th>7</th>\n",
       "      <th>8</th>\n",
       "      <th>...</th>\n",
       "      <th>16479</th>\n",
       "      <th>16480</th>\n",
       "      <th>16481</th>\n",
       "      <th>16482</th>\n",
       "      <th>16483</th>\n",
       "      <th>16484</th>\n",
       "      <th>16485</th>\n",
       "      <th>16486</th>\n",
       "      <th>16487</th>\n",
       "      <th>16488</th>\n",
       "    </tr>\n",
       "  </thead>\n",
       "  <tbody>\n",
       "    <tr>\n",
       "      <td>0</td>\n",
       "      <td>82</td>\n",
       "      <td>0.0</td>\n",
       "      <td>0.0</td>\n",
       "      <td>0.0</td>\n",
       "      <td>0.0</td>\n",
       "      <td>0.0</td>\n",
       "      <td>0.0</td>\n",
       "      <td>0.0</td>\n",
       "      <td>0.0</td>\n",
       "      <td>0.0</td>\n",
       "      <td>...</td>\n",
       "      <td>0.0</td>\n",
       "      <td>0.0</td>\n",
       "      <td>0.0</td>\n",
       "      <td>0.0</td>\n",
       "      <td>0.0</td>\n",
       "      <td>0.0</td>\n",
       "      <td>0.0</td>\n",
       "      <td>0.0</td>\n",
       "      <td>0.0</td>\n",
       "      <td>0.0</td>\n",
       "    </tr>\n",
       "    <tr>\n",
       "      <td>1</td>\n",
       "      <td>78</td>\n",
       "      <td>0.0</td>\n",
       "      <td>0.0</td>\n",
       "      <td>0.0</td>\n",
       "      <td>0.0</td>\n",
       "      <td>0.0</td>\n",
       "      <td>0.0</td>\n",
       "      <td>0.0</td>\n",
       "      <td>0.0</td>\n",
       "      <td>0.0</td>\n",
       "      <td>...</td>\n",
       "      <td>0.0</td>\n",
       "      <td>0.0</td>\n",
       "      <td>0.0</td>\n",
       "      <td>0.0</td>\n",
       "      <td>0.0</td>\n",
       "      <td>0.0</td>\n",
       "      <td>0.0</td>\n",
       "      <td>0.0</td>\n",
       "      <td>0.0</td>\n",
       "      <td>0.0</td>\n",
       "    </tr>\n",
       "    <tr>\n",
       "      <td>2</td>\n",
       "      <td>55</td>\n",
       "      <td>0.0</td>\n",
       "      <td>0.0</td>\n",
       "      <td>0.0</td>\n",
       "      <td>0.0</td>\n",
       "      <td>0.0</td>\n",
       "      <td>0.0</td>\n",
       "      <td>0.0</td>\n",
       "      <td>0.0</td>\n",
       "      <td>0.0</td>\n",
       "      <td>...</td>\n",
       "      <td>0.0</td>\n",
       "      <td>0.0</td>\n",
       "      <td>0.0</td>\n",
       "      <td>0.0</td>\n",
       "      <td>0.0</td>\n",
       "      <td>0.0</td>\n",
       "      <td>0.0</td>\n",
       "      <td>0.0</td>\n",
       "      <td>0.0</td>\n",
       "      <td>0.0</td>\n",
       "    </tr>\n",
       "    <tr>\n",
       "      <td>3</td>\n",
       "      <td>108</td>\n",
       "      <td>0.0</td>\n",
       "      <td>0.0</td>\n",
       "      <td>0.0</td>\n",
       "      <td>0.0</td>\n",
       "      <td>0.0</td>\n",
       "      <td>0.0</td>\n",
       "      <td>0.0</td>\n",
       "      <td>0.0</td>\n",
       "      <td>0.0</td>\n",
       "      <td>...</td>\n",
       "      <td>0.0</td>\n",
       "      <td>0.0</td>\n",
       "      <td>0.0</td>\n",
       "      <td>0.0</td>\n",
       "      <td>0.0</td>\n",
       "      <td>0.0</td>\n",
       "      <td>0.0</td>\n",
       "      <td>0.0</td>\n",
       "      <td>0.0</td>\n",
       "      <td>0.0</td>\n",
       "    </tr>\n",
       "    <tr>\n",
       "      <td>4</td>\n",
       "      <td>116</td>\n",
       "      <td>0.0</td>\n",
       "      <td>0.0</td>\n",
       "      <td>0.0</td>\n",
       "      <td>0.0</td>\n",
       "      <td>0.0</td>\n",
       "      <td>0.0</td>\n",
       "      <td>0.0</td>\n",
       "      <td>0.0</td>\n",
       "      <td>0.0</td>\n",
       "      <td>...</td>\n",
       "      <td>0.0</td>\n",
       "      <td>0.0</td>\n",
       "      <td>0.0</td>\n",
       "      <td>0.0</td>\n",
       "      <td>0.0</td>\n",
       "      <td>0.0</td>\n",
       "      <td>0.0</td>\n",
       "      <td>0.0</td>\n",
       "      <td>0.0</td>\n",
       "      <td>0.0</td>\n",
       "    </tr>\n",
       "  </tbody>\n",
       "</table>\n",
       "<p>5 rows × 16490 columns</p>\n",
       "</div>"
      ],
      "text/plain": [
       "   text_len    0    1    2    3    4    5    6    7    8  ...  16479  16480  \\\n",
       "0        82  0.0  0.0  0.0  0.0  0.0  0.0  0.0  0.0  0.0  ...    0.0    0.0   \n",
       "1        78  0.0  0.0  0.0  0.0  0.0  0.0  0.0  0.0  0.0  ...    0.0    0.0   \n",
       "2        55  0.0  0.0  0.0  0.0  0.0  0.0  0.0  0.0  0.0  ...    0.0    0.0   \n",
       "3       108  0.0  0.0  0.0  0.0  0.0  0.0  0.0  0.0  0.0  ...    0.0    0.0   \n",
       "4       116  0.0  0.0  0.0  0.0  0.0  0.0  0.0  0.0  0.0  ...    0.0    0.0   \n",
       "\n",
       "   16481  16482  16483  16484  16485  16486  16487  16488  \n",
       "0    0.0    0.0    0.0    0.0    0.0    0.0    0.0    0.0  \n",
       "1    0.0    0.0    0.0    0.0    0.0    0.0    0.0    0.0  \n",
       "2    0.0    0.0    0.0    0.0    0.0    0.0    0.0    0.0  \n",
       "3    0.0    0.0    0.0    0.0    0.0    0.0    0.0    0.0  \n",
       "4    0.0    0.0    0.0    0.0    0.0    0.0    0.0    0.0  \n",
       "\n",
       "[5 rows x 16490 columns]"
      ]
     },
     "execution_count": 4,
     "metadata": {},
     "output_type": "execute_result"
    }
   ],
   "source": [
    "tfidf_vect = TfidfVectorizer(analyzer=clean_text)\n",
    "tfidf_vect_fit = tfidf_vect.fit(X_train['text'])\n",
    "\n",
    "tfidf_train = tfidf_vect_fit.transform(X_train['text'])\n",
    "tfidf_test = tfidf_vect_fit.transform(X_test['text'])\n",
    "\n",
    "X_train_vect = pd.concat([X_train[['text_len']].reset_index(drop=True), \n",
    "           pd.DataFrame(tfidf_train.toarray())], axis=1)\n",
    "X_test_vect = pd.concat([X_test[['text_len']].reset_index(drop=True), \n",
    "           pd.DataFrame(tfidf_test.toarray())], axis=1)\n",
    "\n",
    "X_train_vect.head()"
   ]
  },
  {
   "cell_type": "markdown",
   "metadata": {},
   "source": [
    "### Evaluation model"
   ]
  },
  {
   "cell_type": "code",
   "execution_count": 5,
   "metadata": {},
   "outputs": [],
   "source": [
    "from sklearn.ensemble import RandomForestClassifier, GradientBoostingClassifier\n",
    "from sklearn.metrics import precision_recall_fscore_support as score\n",
    "import time"
   ]
  },
  {
   "cell_type": "markdown",
   "metadata": {},
   "source": [
    "### Build our own Grid-search"
   ]
  },
  {
   "cell_type": "code",
   "execution_count": 11,
   "metadata": {},
   "outputs": [],
   "source": [
    "def train_GB(est, max_depth, lr):\n",
    "    gb = GradientBoostingClassifier(n_estimators=est, max_depth=max_depth, learning_rate=lr)\n",
    "    gb_model = gb.fit(X_train_vect, y_train)\n",
    "    y_pred = gb_model.predict(X_test_vect)\n",
    "    precision, recall, fscore, train_support = score(y_test, y_pred, pos_label=1, average='binary')\n",
    "    print('Est: {} / Depth: {} / LR: {} ---- Precision: {} / Recall: {} / Accuracy: {}'.format(\n",
    "        est, max_depth, lr, round(precision, 3), round(recall, 3), \n",
    "        round((y_pred==y_test).sum()/len(y_pred), 3)))"
   ]
  },
  {
   "cell_type": "code",
   "execution_count": 12,
   "metadata": {},
   "outputs": [
    {
     "name": "stdout",
     "output_type": "stream",
     "text": [
      "Est: 50 / Depth: 3 / LR: 0.01 ---- Precision: 0.916 / Recall: 0.144 / Accuracy: 0.611\n",
      "Est: 50 / Depth: 3 / LR: 0.1 ---- Precision: 0.858 / Recall: 0.435 / Accuracy: 0.715\n",
      "Est: 50 / Depth: 3 / LR: 1 ---- Precision: 0.75 / Recall: 0.669 / Accuracy: 0.752\n",
      "Est: 50 / Depth: 7 / LR: 0.01 ---- Precision: 0.869 / Recall: 0.224 / Accuracy: 0.638\n",
      "Est: 50 / Depth: 7 / LR: 0.1 ---- Precision: 0.845 / Recall: 0.56 / Accuracy: 0.757\n",
      "Est: 50 / Depth: 7 / LR: 1 ---- Precision: 0.713 / Recall: 0.686 / Accuracy: 0.736\n",
      "Est: 50 / Depth: 11 / LR: 0.01 ---- Precision: 0.86 / Recall: 0.305 / Accuracy: 0.666\n",
      "Est: 50 / Depth: 11 / LR: 0.1 ---- Precision: 0.837 / Recall: 0.609 / Accuracy: 0.772\n",
      "Est: 50 / Depth: 11 / LR: 1 ---- Precision: 0.727 / Recall: 0.692 / Accuracy: 0.746\n",
      "Est: 50 / Depth: 15 / LR: 0.01 ---- Precision: 0.859 / Recall: 0.34 / Accuracy: 0.68\n",
      "Est: 50 / Depth: 15 / LR: 0.1 ---- Precision: 0.823 / Recall: 0.655 / Accuracy: 0.783\n",
      "Est: 50 / Depth: 15 / LR: 1 ---- Precision: 0.736 / Recall: 0.666 / Accuracy: 0.743\n",
      "Est: 100 / Depth: 3 / LR: 0.01 ---- Precision: 0.867 / Recall: 0.22 / Accuracy: 0.636\n",
      "Est: 100 / Depth: 3 / LR: 0.1 ---- Precision: 0.848 / Recall: 0.55 / Accuracy: 0.754\n",
      "Est: 100 / Depth: 3 / LR: 1 ---- Precision: 0.738 / Recall: 0.692 / Accuracy: 0.752\n",
      "Est: 100 / Depth: 7 / LR: 0.01 ---- Precision: 0.884 / Recall: 0.324 / Accuracy: 0.678\n",
      "Est: 100 / Depth: 7 / LR: 0.1 ---- Precision: 0.833 / Recall: 0.628 / Accuracy: 0.777\n",
      "Est: 100 / Depth: 7 / LR: 1 ---- Precision: 0.706 / Recall: 0.666 / Accuracy: 0.726\n",
      "Est: 100 / Depth: 11 / LR: 0.01 ---- Precision: 0.873 / Recall: 0.383 / Accuracy: 0.699\n",
      "Est: 100 / Depth: 11 / LR: 0.1 ---- Precision: 0.827 / Recall: 0.664 / Accuracy: 0.787\n",
      "Est: 100 / Depth: 11 / LR: 1 ---- Precision: 0.711 / Recall: 0.68 / Accuracy: 0.733\n",
      "Est: 100 / Depth: 15 / LR: 0.01 ---- Precision: 0.876 / Recall: 0.434 / Accuracy: 0.719\n",
      "Est: 100 / Depth: 15 / LR: 0.1 ---- Precision: 0.819 / Recall: 0.677 / Accuracy: 0.789\n",
      "Est: 100 / Depth: 15 / LR: 1 ---- Precision: 0.713 / Recall: 0.652 / Accuracy: 0.727\n",
      "Est: 150 / Depth: 3 / LR: 0.01 ---- Precision: 0.88 / Recall: 0.268 / Accuracy: 0.656\n",
      "Est: 150 / Depth: 3 / LR: 0.1 ---- Precision: 0.832 / Recall: 0.588 / Accuracy: 0.762\n",
      "Est: 150 / Depth: 3 / LR: 1 ---- Precision: 0.718 / Recall: 0.723 / Accuracy: 0.749\n",
      "Est: 150 / Depth: 7 / LR: 0.01 ---- Precision: 0.865 / Recall: 0.386 / Accuracy: 0.698\n",
      "Est: 150 / Depth: 7 / LR: 0.1 ---- Precision: 0.824 / Recall: 0.652 / Accuracy: 0.782\n",
      "Est: 150 / Depth: 7 / LR: 1 ---- Precision: 0.729 / Recall: 0.696 / Accuracy: 0.748\n",
      "Est: 150 / Depth: 11 / LR: 0.01 ---- Precision: 0.867 / Recall: 0.46 / Accuracy: 0.727\n",
      "Est: 150 / Depth: 11 / LR: 0.1 ---- Precision: 0.803 / Recall: 0.677 / Accuracy: 0.781\n",
      "Est: 150 / Depth: 11 / LR: 1 ---- Precision: 0.737 / Recall: 0.683 / Accuracy: 0.749\n",
      "Est: 150 / Depth: 15 / LR: 0.01 ---- Precision: 0.863 / Recall: 0.518 / Accuracy: 0.747\n",
      "Est: 150 / Depth: 15 / LR: 0.1 ---- Precision: 0.803 / Recall: 0.694 / Accuracy: 0.787\n",
      "Est: 150 / Depth: 15 / LR: 1 ---- Precision: 0.71 / Recall: 0.658 / Accuracy: 0.727\n"
     ]
    }
   ],
   "source": [
    "for n_est in [50, 100, 150]:\n",
    "    for max_depth in [3, 7, 11, 15]:\n",
    "        for lr in [0.01, 0.1, 1]:\n",
    "            train_GB(n_est, max_depth, lr)"
   ]
  },
  {
   "cell_type": "markdown",
   "metadata": {},
   "source": [
    "### Random Forest model"
   ]
  },
  {
   "cell_type": "code",
   "execution_count": 13,
   "metadata": {},
   "outputs": [],
   "source": [
    "def train_RF(n_est, depth):\n",
    "    rf = RandomForestClassifier(n_estimators=n_est, max_depth=depth, n_jobs=-1)\n",
    "    rf_model = rf.fit(X_train_vect, y_train)\n",
    "    y_pred = rf_model.predict(X_test_vect)\n",
    "    precision, recall, fscore, support = score(y_test, y_pred, pos_label=1, average='binary')\n",
    "    print('Est: {} / Depth: {} ---- Precision: {} / Recall: {} / Accuracy: {}'.format(\n",
    "        n_est, depth, round(precision, 3), round(recall, 3),\n",
    "        round((y_pred==y_test).sum() / len(y_pred), 3)))"
   ]
  },
  {
   "cell_type": "code",
   "execution_count": 15,
   "metadata": {},
   "outputs": [
    {
     "name": "stdout",
     "output_type": "stream",
     "text": [
      "Est: 10 / Depth: 10 ---- Precision: 0.938 / Recall: 0.177 / Accuracy: 0.626\n",
      "Est: 10 / Depth: 20 ---- Precision: 0.88 / Recall: 0.345 / Accuracy: 0.685\n",
      "Est: 10 / Depth: 30 ---- Precision: 0.895 / Recall: 0.412 / Accuracy: 0.715\n",
      "Est: 10 / Depth: 40 ---- Precision: 0.883 / Recall: 0.465 / Accuracy: 0.733\n",
      "Est: 10 / Depth: None ---- Precision: 0.803 / Recall: 0.641 / Accuracy: 0.769\n",
      "Est: 50 / Depth: 10 ---- Precision: 0.991 / Recall: 0.155 / Accuracy: 0.621\n",
      "Est: 50 / Depth: 20 ---- Precision: 0.983 / Recall: 0.33 / Accuracy: 0.697\n",
      "Est: 50 / Depth: 30 ---- Precision: 0.951 / Recall: 0.4 / Accuracy: 0.722\n",
      "Est: 50 / Depth: 40 ---- Precision: 0.926 / Recall: 0.46 / Accuracy: 0.742\n",
      "Est: 50 / Depth: None ---- Precision: 0.805 / Recall: 0.689 / Accuracy: 0.786\n",
      "Est: 100 / Depth: 10 ---- Precision: 0.992 / Recall: 0.172 / Accuracy: 0.628\n",
      "Est: 100 / Depth: 20 ---- Precision: 0.979 / Recall: 0.343 / Accuracy: 0.703\n",
      "Est: 100 / Depth: 30 ---- Precision: 0.951 / Recall: 0.399 / Accuracy: 0.722\n",
      "Est: 100 / Depth: 40 ---- Precision: 0.936 / Recall: 0.491 / Accuracy: 0.757\n",
      "Est: 100 / Depth: None ---- Precision: 0.829 / Recall: 0.68 / Accuracy: 0.794\n",
      "Est: 150 / Depth: 10 ---- Precision: 1.0 / Recall: 0.174 / Accuracy: 0.63\n",
      "Est: 150 / Depth: 20 ---- Precision: 0.978 / Recall: 0.327 / Accuracy: 0.695\n",
      "Est: 150 / Depth: 30 ---- Precision: 0.959 / Recall: 0.415 / Accuracy: 0.73\n",
      "Est: 150 / Depth: 40 ---- Precision: 0.919 / Recall: 0.501 / Accuracy: 0.757\n",
      "Est: 150 / Depth: None ---- Precision: 0.826 / Recall: 0.691 / Accuracy: 0.796\n"
     ]
    }
   ],
   "source": [
    "for n_est in [10, 50, 100,150]:\n",
    "    for depth in [10, 20, 30, 40, None]:\n",
    "        train_RF(n_est, depth)"
   ]
  },
  {
   "cell_type": "code",
   "execution_count": 16,
   "metadata": {},
   "outputs": [
    {
     "name": "stdout",
     "output_type": "stream",
     "text": [
      "Est: 10 / Depth: None ---- Precision: 0.821 / Recall: 0.628 / Accuracy: 0.772\n",
      "Est: 50 / Depth: None ---- Precision: 0.811 / Recall: 0.672 / Accuracy: 0.783\n",
      "Est: 100 / Depth: None ---- Precision: 0.813 / Recall: 0.68 / Accuracy: 0.787\n",
      "Est: 150 / Depth: None ---- Precision: 0.817 / Recall: 0.694 / Accuracy: 0.793\n",
      "Est: 200 / Depth: None ---- Precision: 0.822 / Recall: 0.699 / Accuracy: 0.798\n",
      "Est: 250 / Depth: None ---- Precision: 0.824 / Recall: 0.694 / Accuracy: 0.796\n",
      "Est: 300 / Depth: None ---- Precision: 0.814 / Recall: 0.688 / Accuracy: 0.79\n"
     ]
    }
   ],
   "source": [
    "for n_est in [10, 50, 100,150,200,250,300]:\n",
    "    for depth in [ None]:\n",
    "        train_RF(n_est, depth)"
   ]
  },
  {
   "cell_type": "code",
   "execution_count": null,
   "metadata": {},
   "outputs": [],
   "source": []
  }
 ],
 "metadata": {
  "kernelspec": {
   "display_name": "Python 3",
   "language": "python",
   "name": "python3"
  },
  "language_info": {
   "codemirror_mode": {
    "name": "ipython",
    "version": 3
   },
   "file_extension": ".py",
   "mimetype": "text/x-python",
   "name": "python",
   "nbconvert_exporter": "python",
   "pygments_lexer": "ipython3",
   "version": "3.7.4"
  }
 },
 "nbformat": 4,
 "nbformat_minor": 2
}
